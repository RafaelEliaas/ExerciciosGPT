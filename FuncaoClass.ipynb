{
 "cells": [
  {
   "cell_type": "code",
   "execution_count": null,
   "metadata": {},
   "outputs": [],
   "source": [
    "\n",
    "\n",
    "class Produto :\n",
    "    def __init__ (self, nome:str, quantidade:int, preco:float):\n",
    "        self.nome = nome\n",
    "        self.quantidade = quantidade\n",
    "        self.preco = preco\n",
    "    def mostrar_informacoes (self):\n",
    "        print(f\"O produto: {self.nome}, possui {self.quantidade} unidades em estoque, pelo valor de R$ {self.preco} cada uma!\")\n",
    "    \n",
    "    def adicionar_estoque (self, quantidade_adc):\n",
    "        self.quantidade += quantidade_adc\n",
    "        \n",
    "    def remover_estoque (self, quantidade_rmv):\n",
    "        if self.quantidade >= quantidade_rmv:\n",
    "            self.quantidade -= quantidade_rmv\n",
    "        else:\n",
    "            print (\"Quantidade para remoção, maior do que o estoque!!\")\n",
    "while True:    \n",
    "    print ('Olá, selecione uma das opções do estoque: ')\n",
    "    print ('1 - Cadastro de produto')\n",
    "    print ('2 - Adicionar unidades do produto')\n",
    "    print ('3 - Remover unidades do produto')\n",
    "    print ('4 - Sair do programa de estoque')\n",
    "    resposta = input(\"\")\n",
    "    if resposta == '4':\n",
    "        print('Saindo do sistema de estoque')\n",
    "        break\n",
    "    elif resposta == '1':\n",
    "        nome = input(\"Digite o nome do produto: \")\n",
    "        quantidade = int(input(\"Digite a quantidade do produto: \"))\n",
    "        preco = float(input(\"Digite o preço do produto: \"))\n",
    "        produto1 = Produto(nome, quantidade, preco)\n",
    "        print ('Produto cadastrado!!')\n",
    "        print (produto1.mostrar_informacoes())\n",
    "    if resposta == '2':\n",
    "        quantidade_adc = int(input(\"Digite a quantidade que deseja adicionar ao estoque: \"))\n",
    "        print (produto1.adicionar_estoque(quantidade_adc))\n",
    "        print (\"Estoque atualizado com Sucesso!!\")\n",
    "        print (produto1.mostrar_informacoes())\n",
    "    \n",
    "    if resposta == '3':\n",
    "        quantidade_rmv = int(input(\"Digite a quantidade que deseja retirar ao estoque: \"))\n",
    "        print (produto1.remover_estoque(quantidade_rmv))\n",
    "        print (\"Estoque atualizado com Sucesso!!\")\n",
    "        print (produto1.mostrar_informacoes())\n",
    "    \n",
    "        \n",
    " #Aprender mais e melhorar  \n",
    "     \n",
    "          "
   ]
  }
 ],
 "metadata": {
  "kernelspec": {
   "display_name": "Python 3",
   "language": "python",
   "name": "python3"
  },
  "language_info": {
   "codemirror_mode": {
    "name": "ipython",
    "version": 3
   },
   "file_extension": ".py",
   "mimetype": "text/x-python",
   "name": "python",
   "nbconvert_exporter": "python",
   "pygments_lexer": "ipython3",
   "version": "3.12.2"
  }
 },
 "nbformat": 4,
 "nbformat_minor": 2
}
