{
 "cells": [
  {
   "cell_type": "code",
   "execution_count": 11,
   "metadata": {},
   "outputs": [
    {
     "name": "stdout",
     "output_type": "stream",
     "text": [
      "Números binarios digitados: ['1001', ' 1111']\n",
      "Números binários convertidos para inteiros: [9, 15]\n"
     ]
    }
   ],
   "source": [
    "numeros_bin = input(\"Digite uma lista de números bínarios separando-os por virgula: \").split(',')\n",
    "numeros_inteiros = list(map(lambda numeros_bin: int(numeros_bin, 2), numeros_bin))\n",
    "\n",
    "print(f\"Números binarios digitados: {numeros_bin}\")\n",
    "print(f'Números binários convertidos para inteiros: {numeros_inteiros}')\n",
    "\n",
    "\n"
   ]
  }
 ],
 "metadata": {
  "kernelspec": {
   "display_name": "Python 3",
   "language": "python",
   "name": "python3"
  },
  "language_info": {
   "codemirror_mode": {
    "name": "ipython",
    "version": 3
   },
   "file_extension": ".py",
   "mimetype": "text/x-python",
   "name": "python",
   "nbconvert_exporter": "python",
   "pygments_lexer": "ipython3",
   "version": "3.12.2"
  }
 },
 "nbformat": 4,
 "nbformat_minor": 2
}
