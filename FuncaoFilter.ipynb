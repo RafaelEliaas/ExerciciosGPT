{
 "cells": [
  {
   "cell_type": "code",
   "execution_count": 17,
   "metadata": {},
   "outputs": [
    {
     "name": "stdout",
     "output_type": "stream",
     "text": [
      "Sua lista de números: 2, 3, 4, 665, 541588\n",
      "Da lista de números fornecidos, apenas estes são números Pares: [2, 4, 541588]\n"
     ]
    }
   ],
   "source": [
    "numeros_pelo_usuario = input(\"Digite uma lista de números separados por ',' para saber se são impar ou par: \")\n",
    "numeros = list(map(int, numeros_pelo_usuario.split(',')))\n",
    "numeros_par = list(filter(lambda num: num % 2 == 0 , numeros))\n",
    "print (f'Sua lista de números: {numeros_pelo_usuario}')\n",
    "print (f'Da lista de números fornecidos, apenas estes são números Pares: {numeros_par}')"
   ]
  }
 ],
 "metadata": {
  "kernelspec": {
   "display_name": "Python 3",
   "language": "python",
   "name": "python3"
  },
  "language_info": {
   "codemirror_mode": {
    "name": "ipython",
    "version": 3
   },
   "file_extension": ".py",
   "mimetype": "text/x-python",
   "name": "python",
   "nbconvert_exporter": "python",
   "pygments_lexer": "ipython3",
   "version": "3.12.2"
  }
 },
 "nbformat": 4,
 "nbformat_minor": 2
}
