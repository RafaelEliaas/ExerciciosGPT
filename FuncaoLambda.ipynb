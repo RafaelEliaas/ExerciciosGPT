{
 "cells": [
  {
   "cell_type": "code",
   "execution_count": 87,
   "metadata": {},
   "outputs": [
    {
     "name": "stdout",
     "output_type": "stream",
     "text": [
      "O número 7 é um número Impar\n"
     ]
    }
   ],
   "source": [
    "\n",
    "numeroparimpar = lambda numeros: \"Par\" if numeros % 2 == 0 else \"Impar\"\n",
    "numeros = int(input(\"Digite o número que deseja saber se é impar ou par: \"))\n",
    "\n",
    "resultado = numeroparimpar(numeros)\n",
    "\n",
    "print (f\"O número {numeros} é um número {resultado}\")  \n",
    "\n",
    "#Demorei literalmente 2 horas e meia para fazer essas 4 linhas de código, \n",
    "# elas foram refeitas de várias formas, porém mostrava que todos os números eram impares... \n",
    "# ainda não sei o que eu fiz para resolver isso, mas funcionou!! Test dev\n",
    "   \n",
    "\n",
    "\n"
   ]
  }
 ],
 "metadata": {
  "kernelspec": {
   "display_name": "Python 3",
   "language": "python",
   "name": "python3"
  },
  "language_info": {
   "codemirror_mode": {
    "name": "ipython",
    "version": 3
   },
   "file_extension": ".py",
   "mimetype": "text/x-python",
   "name": "python",
   "nbconvert_exporter": "python",
   "pygments_lexer": "ipython3",
   "version": "3.12.2"
  }
 },
 "nbformat": 4,
 "nbformat_minor": 2
}
