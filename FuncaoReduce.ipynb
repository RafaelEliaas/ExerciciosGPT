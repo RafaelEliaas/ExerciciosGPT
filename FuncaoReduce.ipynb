{
 "cells": [
  {
   "cell_type": "code",
   "execution_count": null,
   "metadata": {},
   "outputs": [],
   "source": [
    "from functools import reduce\n",
    "\n",
    "numeros = input('Digite uma lista de números separados por virgula para ter a soma de todos eles: ').split(',')\n",
    "numeros = list(map(int, numeros))\n",
    "soma = reduce(lambda x,y: x + y , numeros)\n",
    "\n",
    "print (f\"A soma dos números: {numeros} é igual a: {soma}\")"
   ]
  }
 ],
 "metadata": {
  "kernelspec": {
   "display_name": "Python 3",
   "language": "python",
   "name": "python3"
  },
  "language_info": {
   "codemirror_mode": {
    "name": "ipython",
    "version": 3
   },
   "file_extension": ".py",
   "mimetype": "text/x-python",
   "name": "python",
   "nbconvert_exporter": "python",
   "pygments_lexer": "ipython3",
   "version": "3.12.2"
  }
 },
 "nbformat": 4,
 "nbformat_minor": 2
}
