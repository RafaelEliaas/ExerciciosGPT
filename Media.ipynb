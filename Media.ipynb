{
 "cells": [
  {
   "cell_type": "code",
   "execution_count": 13,
   "metadata": {},
   "outputs": [],
   "source": [
    "def media_enem ():\n",
    "    print ('Olá, nessa cálculadora você saberá sua média no enem!!')\n",
    "    nota_ciencias = float(input('Por favor, digite sua nota em Ciências Humanas e suas tecnologias: '))\n",
    "    nota_natureza = float(input('Por favor, digite sua nota em Ciências da Natureza e suas tecnologias: '))\n",
    "    nota_linguagens = float(input('Por favor, digite sua nota em Linguagens e suas tecnologias: '))\n",
    "    nota_matematica = float(input('Por favor, digite sua nota em Matemática e suas tecnologias: '))\n",
    "    nota_redacao = float(input(\"Por favor, digite sua nota da Redação: \"))\n",
    "    while True:\n",
    "        media_notas = (nota_ciencias + nota_natureza + nota_linguagens + nota_matematica + nota_redacao) / 5\n",
    "        print (f'Sua nota do Enem é: {media_notas}')\n",
    "        resposta = str(input('Deseja fazer nova média?'))\n",
    "        if resposta == ('sim'):\n",
    "            media_enem()\n",
    "        else:\n",
    "            break  \n",
    "media_enem()\n"
   ]
  }
 ],
 "metadata": {
  "kernelspec": {
   "display_name": "Python 3",
   "language": "python",
   "name": "python3"
  },
  "language_info": {
   "codemirror_mode": {
    "name": "ipython",
    "version": 3
   },
   "file_extension": ".py",
   "mimetype": "text/x-python",
   "name": "python",
   "nbconvert_exporter": "python",
   "pygments_lexer": "ipython3",
   "version": "3.12.2"
  }
 },
 "nbformat": 4,
 "nbformat_minor": 2
}
